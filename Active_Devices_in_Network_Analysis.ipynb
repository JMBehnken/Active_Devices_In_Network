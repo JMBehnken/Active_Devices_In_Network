{
 "cells": [
  {
   "cell_type": "markdown",
   "metadata": {},
   "source": [
    "# Investigate the activity of the devices in your network"
   ]
  },
  {
   "cell_type": "code",
   "execution_count": null,
   "metadata": {},
   "outputs": [],
   "source": [
    "import pandas as pd\n",
    "df = pd.read_csv('Devices.csv', header=None).rename(columns={0:'Device', 1:'IP', 2:'Time'})\n",
    "df['Time'] = pd.to_datetime(df['Time'])\n",
    "df = df.set_index('Time')\n",
    "df.tail()"
   ]
  },
  {
   "cell_type": "code",
   "execution_count": null,
   "metadata": {},
   "outputs": [],
   "source": [
    "import matplotlib.pyplot as plt\n",
    "from matplotlib.ticker import FuncFormatter, MaxNLocator\n",
    "\n",
    "mat = df.reset_index().pivot_table(index='Time', columns='Device', values='IP', aggfunc='count').clip(upper=1).fillna(0).T\n",
    "\n",
    "fig = plt.figure()\n",
    "ax = fig.add_subplot(111)\n",
    "ax.matshow(mat.values, cmap='gray')\n",
    "labels_x = mat.columns.tolist()\n",
    "labels_y = mat.index.tolist()\n",
    "    \n",
    "def format_fn_x(tick_val, tick_pos):\n",
    "    if int(tick_val) in range(len(mat.columns)):\n",
    "        return labels_x[int(tick_val)]\n",
    "    else:\n",
    "        return ''\n",
    "\n",
    "def format_fn_y(tick_val, tick_pos):\n",
    "    if int(tick_val) in range(len(mat.index)):\n",
    "        return labels_y[int(tick_val)]\n",
    "    else:\n",
    "        return ''\n",
    "\n",
    "ax.xaxis.set_major_formatter(FuncFormatter(format_fn_x))\n",
    "ax.xaxis.set_major_locator(MaxNLocator(integer=True))\n",
    "\n",
    "ax.yaxis.set_major_formatter(FuncFormatter(format_fn_y))\n",
    "ax.yaxis.set_major_locator(MaxNLocator(integer=True))\n",
    "\n",
    "plt.xticks(rotation=90)\n",
    "\n",
    "plt.show()"
   ]
  },
  {
   "cell_type": "code",
   "execution_count": null,
   "metadata": {
    "collapsed": true
   },
   "outputs": [],
   "source": []
  }
 ],
 "metadata": {
  "kernelspec": {
   "display_name": "Python 3",
   "language": "python",
   "name": "python3"
  },
  "language_info": {
   "codemirror_mode": {
    "name": "ipython",
    "version": 3
   },
   "file_extension": ".py",
   "mimetype": "text/x-python",
   "name": "python",
   "nbconvert_exporter": "python",
   "pygments_lexer": "ipython3",
   "version": "3.6.1"
  }
 },
 "nbformat": 4,
 "nbformat_minor": 2
}
