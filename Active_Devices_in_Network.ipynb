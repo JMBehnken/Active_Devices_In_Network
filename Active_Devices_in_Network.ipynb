{
 "cells": [
  {
   "cell_type": "markdown",
   "metadata": {},
   "source": [
    "# Checks for the current devices in the network (Use this only in your own networks!)"
   ]
  },
  {
   "cell_type": "code",
   "execution_count": null,
   "metadata": {
    "collapsed": true,
    "scrolled": true
   },
   "outputs": [],
   "source": [
    "import re, csv, time, subprocess\n",
    "\n",
    "times = re.compile('\\) at (.*?)\\n')\n",
    "device = re.compile('Nmap scan report for (.*?) ')\n",
    "ip = re.compile('\\((.*?)\\)')\n",
    "\n",
    "while True:\n",
    "    p = subprocess.Popen(\"nmap -sn 192.168.178.*\", stdout=subprocess.PIPE, shell=True)\n",
    "    (output, err) = p.communicate()\n",
    "    output = output.decode(\"utf-8\")\n",
    "\n",
    "    timestamp = times.search(output)[1]\n",
    "    for line in output.split('\\n'):\n",
    "        try:\n",
    "            dev = device.search(line)[1]\n",
    "            i = ip.search(line)[1]\n",
    "            with open('Current_Network_Devices.csv', 'a') as f:\n",
    "                file = csv.writer(f)\n",
    "                file.writerow([dev, i, timestamp])\n",
    "        except:\n",
    "            pass\n",
    "    time.sleep(3600)"
   ]
  },
  {
   "cell_type": "code",
   "execution_count": null,
   "metadata": {
    "collapsed": true
   },
   "outputs": [],
   "source": []
  }
 ],
 "metadata": {
  "kernelspec": {
   "display_name": "Python 3",
   "language": "python",
   "name": "python3"
  },
  "language_info": {
   "codemirror_mode": {
    "name": "ipython",
    "version": 3
   },
   "file_extension": ".py",
   "mimetype": "text/x-python",
   "name": "python",
   "nbconvert_exporter": "python",
   "pygments_lexer": "ipython3",
   "version": "3.6.1"
  }
 },
 "nbformat": 4,
 "nbformat_minor": 2
}
